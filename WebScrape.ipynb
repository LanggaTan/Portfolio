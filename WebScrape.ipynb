{
 "cells": [
  {
   "cell_type": "code",
   "execution_count": 7,
   "id": "8c25d249",
   "metadata": {},
   "outputs": [],
   "source": [
    "#libraries\n",
    "\n",
    "from bs4 import BeautifulSoup\n",
    "import requests\n",
    "import smtplib\n",
    "import time\n",
    "import datetime"
   ]
  },
  {
   "cell_type": "code",
   "execution_count": 106,
   "id": "4c7568e4",
   "metadata": {},
   "outputs": [],
   "source": [
    "#Connect to Website\n",
    "URL = \"https://www.amazon.com/EKSA-Surround-Headphones-Canceling-Compatible/dp/B07XHGLSGF/ref=pd_rhf_gw_s_pd_sbs_rvi_d_sccl_1_1/138-7128580-0493408?pd_rd_w=N5DnH&content-id=amzn1.sym.a089f039-4dde-401a-9041-8b534ae99e65&pf_rd_p=a089f039-4dde-401a-9041-8b534ae99e65&pf_rd_r=0QJ20HR8ZDPR7QPVCXTC&pd_rd_wg=3XEGv&pd_rd_r=970f1eba-8be7-486c-9aae-8a94043e01b6&pd_rd_i=B07XHGLSGF&th=1\"\n",
    "\n",
    "headers = {\"User-Agent\": \"Mozilla/5.0 (Windows NT 10.0; Win64; x64) AppleWebKit/537.36 (KHTML, like Gecko) Chrome/118.0.0.0 Safari/537.36 OPR/104.0.0.0\",\n",
    "           \"Accept-Encoding\":\"gzip, deflate\", \"Accept\":\"text/html,application/xhtml+xml,application/xml;q=0.9,*/*;q=0.8\", \"DNT\":\"1\",\"Connection\":\"close\", \"Upgrade-Insecure-Requests\":\"1\"}\n",
    "\n",
    "page = requests.get(URL, headers=headers)\n",
    "\n",
    "soup1 = BeautifulSoup(page.content, \"html.parser\")\n",
    "soup2 = BeautifulSoup(soup1.prettify(), \"html.parser\")"
   ]
  },
  {
   "cell_type": "code",
   "execution_count": 132,
   "id": "195c3e97",
   "metadata": {},
   "outputs": [
    {
     "name": "stdout",
     "output_type": "stream",
     "text": [
      "31.99\n"
     ]
    }
   ],
   "source": [
    "title = soup2.find(id = \"productTitle\").get_text().strip()\n",
    "price = soup2.find(\"span\",{\"class\":\"a-price\"}).find(\"span\").text.strip()"
   ]
  },
  {
   "cell_type": "code",
   "execution_count": 135,
   "id": "96955ce2",
   "metadata": {},
   "outputs": [],
   "source": [
    "import csv\n",
    "import datetime\n",
    "\n",
    "today = datetime.date.today()\n",
    "\n",
    "header = [\"Title\", \"Price\", \"Date\"]\n",
    "data = [title, price, today]\n",
    "\n",
    "#w for writing, a+ for appending\n",
    "with open(\"AmazonProduct.csv\", \"w\", newline = \"\", encoding = \"UTF8\") as file:\n",
    "    writer = csv.writer(file)\n",
    "    writer.writerow(header)\n",
    "    writer.writerow(data)"
   ]
  },
  {
   "cell_type": "code",
   "execution_count": 139,
   "id": "7cbae98e",
   "metadata": {},
   "outputs": [
    {
     "name": "stdout",
     "output_type": "stream",
     "text": [
      "                                               Title  Price        Date\n",
      "0  EKSA E1000 USB Gaming Headset for PC, Computer...  31.99  2023-12-07\n"
     ]
    }
   ],
   "source": [
    "import pandas as pd\n",
    "\n",
    "df = pd.read_csv(r\"C:\\Users\\angga\\AmazonProduct.csv\")\n",
    "print(df)"
   ]
  }
 ],
 "metadata": {
  "kernelspec": {
   "display_name": "Python 3 (ipykernel)",
   "language": "python",
   "name": "python3"
  },
  "language_info": {
   "codemirror_mode": {
    "name": "ipython",
    "version": 3
   },
   "file_extension": ".py",
   "mimetype": "text/x-python",
   "name": "python",
   "nbconvert_exporter": "python",
   "pygments_lexer": "ipython3",
   "version": "3.11.5"
  }
 },
 "nbformat": 4,
 "nbformat_minor": 5
}
